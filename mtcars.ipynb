{
  "nbformat": 4,
  "nbformat_minor": 0,
  "metadata": {
    "colab": {
      "name": "mtcars.ipynb",
      "provenance": [],
      "authorship_tag": "ABX9TyMSc3kLSs/o2moVrmB18i9i",
      "include_colab_link": true
    },
    "kernelspec": {
      "name": "python3",
      "display_name": "Python 3"
    },
    "language_info": {
      "name": "python"
    }
  },
  "cells": [
    {
      "cell_type": "markdown",
      "metadata": {
        "id": "view-in-github",
        "colab_type": "text"
      },
      "source": [
        "<a href=\"https://colab.research.google.com/github/Willeyno/Willeyno/blob/main/mtcars.ipynb\" target=\"_parent\"><img src=\"https://colab.research.google.com/assets/colab-badge.svg\" alt=\"Open In Colab\"/></a>"
      ]
    },
    {
      "cell_type": "markdown",
      "source": [
        "Ex 1.\n",
        "In addition to “iris”, there are other datasets available called “mtcars”. Import this data into your \n",
        "environment. "
      ],
      "metadata": {
        "id": "h00Iji8DwKxE"
      }
    },
    {
      "cell_type": "code",
      "execution_count": 18,
      "metadata": {
        "colab": {
          "base_uri": "https://localhost:8080/"
        },
        "id": "NawRu05hsVs9",
        "outputId": "9e21e6ba-74fb-4797-e7a8-293c73b5463d"
      },
      "outputs": [
        {
          "output_type": "stream",
          "name": "stdout",
          "text": [
            "(32, 12)\n",
            "                  model   mpg  cyl   disp   hp  drat     wt   qsec  vs  am  \\\n",
            "0             Mazda RX4  21.0    6  160.0  110  3.90  2.620  16.46   0   1   \n",
            "1         Mazda RX4 Wag  21.0    6  160.0  110  3.90  2.875  17.02   0   1   \n",
            "2            Datsun 710  22.8    4  108.0   93  3.85  2.320  18.61   1   1   \n",
            "3        Hornet 4 Drive  21.4    6  258.0  110  3.08  3.215  19.44   1   0   \n",
            "4     Hornet Sportabout  18.7    8  360.0  175  3.15  3.440  17.02   0   0   \n",
            "5               Valiant  18.1    6  225.0  105  2.76  3.460  20.22   1   0   \n",
            "6            Duster 360  14.3    8  360.0  245  3.21  3.570  15.84   0   0   \n",
            "7             Merc 240D  24.4    4  146.7   62  3.69  3.190  20.00   1   0   \n",
            "8              Merc 230  22.8    4  140.8   95  3.92  3.150  22.90   1   0   \n",
            "9              Merc 280  19.2    6  167.6  123  3.92  3.440  18.30   1   0   \n",
            "10            Merc 280C  17.8    6  167.6  123  3.92  3.440  18.90   1   0   \n",
            "11           Merc 450SE  16.4    8  275.8  180  3.07  4.070  17.40   0   0   \n",
            "12           Merc 450SL  17.3    8  275.8  180  3.07  3.730  17.60   0   0   \n",
            "13          Merc 450SLC  15.2    8  275.8  180  3.07  3.780  18.00   0   0   \n",
            "14   Cadillac Fleetwood  10.4    8  472.0  205  2.93  5.250  17.98   0   0   \n",
            "15  Lincoln Continental  10.4    8  460.0  215  3.00  5.424  17.82   0   0   \n",
            "16    Chrysler Imperial  14.7    8  440.0  230  3.23  5.345  17.42   0   0   \n",
            "17             Fiat 128  32.4    4   78.7   66  4.08  2.200  19.47   1   1   \n",
            "18          Honda Civic  30.4    4   75.7   52  4.93  1.615  18.52   1   1   \n",
            "19       Toyota Corolla  33.9    4   71.1   65  4.22  1.835  19.90   1   1   \n",
            "20        Toyota Corona  21.5    4  120.1   97  3.70  2.465  20.01   1   0   \n",
            "21     Dodge Challenger  15.5    8  318.0  150  2.76  3.520  16.87   0   0   \n",
            "22          AMC Javelin  15.2    8  304.0  150  3.15  3.435  17.30   0   0   \n",
            "23           Camaro Z28  13.3    8  350.0  245  3.73  3.840  15.41   0   0   \n",
            "24     Pontiac Firebird  19.2    8  400.0  175  3.08  3.845  17.05   0   0   \n",
            "25            Fiat X1-9  27.3    4   79.0   66  4.08  1.935  18.90   1   1   \n",
            "26        Porsche 914-2  26.0    4  120.3   91  4.43  2.140  16.70   0   1   \n",
            "27         Lotus Europa  30.4    4   95.1  113  3.77  1.513  16.90   1   1   \n",
            "28       Ford Pantera L  15.8    8  351.0  264  4.22  3.170  14.50   0   1   \n",
            "29         Ferrari Dino  19.7    6  145.0  175  3.62  2.770  15.50   0   1   \n",
            "30        Maserati Bora  15.0    8  301.0  335  3.54  3.570  14.60   0   1   \n",
            "31           Volvo 142E  21.4    4  121.0  109  4.11  2.780  18.60   1   1   \n",
            "\n",
            "    gear  carb  \n",
            "0      4     4  \n",
            "1      4     4  \n",
            "2      4     1  \n",
            "3      3     1  \n",
            "4      3     2  \n",
            "5      3     1  \n",
            "6      3     4  \n",
            "7      4     2  \n",
            "8      4     2  \n",
            "9      4     4  \n",
            "10     4     4  \n",
            "11     3     3  \n",
            "12     3     3  \n",
            "13     3     3  \n",
            "14     3     4  \n",
            "15     3     4  \n",
            "16     3     4  \n",
            "17     4     1  \n",
            "18     4     2  \n",
            "19     4     1  \n",
            "20     3     1  \n",
            "21     3     2  \n",
            "22     3     2  \n",
            "23     3     4  \n",
            "24     3     2  \n",
            "25     4     1  \n",
            "26     5     2  \n",
            "27     5     2  \n",
            "28     5     4  \n",
            "29     5     6  \n",
            "30     5     8  \n",
            "31     4     2  \n"
          ]
        }
      ],
      "source": [
        "import pandas as pd\n",
        "import matplotlib.pyplot as plt\n",
        "cars = pd.read_csv('/content/mtcars.csv')\n",
        "print(cars.shape)\n",
        "print(cars)"
      ]
    },
    {
      "cell_type": "markdown",
      "source": [
        "Ex.2\n",
        "A worker at the dealership wants to know the average fuel consumption of all of the cars. Find the \n",
        "mean value for “mpg”.\n"
      ],
      "metadata": {
        "id": "SDs3hvj_wWu6"
      }
    },
    {
      "cell_type": "code",
      "source": [
        "cars.mpg.mean()"
      ],
      "metadata": {
        "colab": {
          "base_uri": "https://localhost:8080/"
        },
        "id": "FWJ_dStIwFsK",
        "outputId": "bd61920f-c5ea-4a3a-b347-8d6c992ee728"
      },
      "execution_count": 7,
      "outputs": [
        {
          "output_type": "execute_result",
          "data": {
            "text/plain": [
              "20.090625000000003"
            ]
          },
          "metadata": {},
          "execution_count": 7
        }
      ]
    },
    {
      "cell_type": "markdown",
      "source": [
        "Ex.3 \n",
        "The “carb” variable has been found to have incorrect data and is no longer needed. Remove this \n",
        "variable from the data frame.\n"
      ],
      "metadata": {
        "id": "EH7TKvfAzBE5"
      }
    },
    {
      "cell_type": "code",
      "source": [
        "carb_delete = cars.drop('carb', axis=1)\n",
        "print(carb_delete)"
      ],
      "metadata": {
        "colab": {
          "base_uri": "https://localhost:8080/"
        },
        "id": "XgdpL9_IzIjC",
        "outputId": "0d99ebb2-e387-4b28-f647-0ecb94be274e"
      },
      "execution_count": 15,
      "outputs": [
        {
          "output_type": "stream",
          "name": "stdout",
          "text": [
            "                  model   mpg  cyl   disp   hp  drat     wt   qsec  vs  am  \\\n",
            "0             Mazda RX4  21.0    6  160.0  110  3.90  2.620  16.46   0   1   \n",
            "1         Mazda RX4 Wag  21.0    6  160.0  110  3.90  2.875  17.02   0   1   \n",
            "2            Datsun 710  22.8    4  108.0   93  3.85  2.320  18.61   1   1   \n",
            "3        Hornet 4 Drive  21.4    6  258.0  110  3.08  3.215  19.44   1   0   \n",
            "4     Hornet Sportabout  18.7    8  360.0  175  3.15  3.440  17.02   0   0   \n",
            "5               Valiant  18.1    6  225.0  105  2.76  3.460  20.22   1   0   \n",
            "6            Duster 360  14.3    8  360.0  245  3.21  3.570  15.84   0   0   \n",
            "7             Merc 240D  24.4    4  146.7   62  3.69  3.190  20.00   1   0   \n",
            "8              Merc 230  22.8    4  140.8   95  3.92  3.150  22.90   1   0   \n",
            "9              Merc 280  19.2    6  167.6  123  3.92  3.440  18.30   1   0   \n",
            "10            Merc 280C  17.8    6  167.6  123  3.92  3.440  18.90   1   0   \n",
            "11           Merc 450SE  16.4    8  275.8  180  3.07  4.070  17.40   0   0   \n",
            "12           Merc 450SL  17.3    8  275.8  180  3.07  3.730  17.60   0   0   \n",
            "13          Merc 450SLC  15.2    8  275.8  180  3.07  3.780  18.00   0   0   \n",
            "14   Cadillac Fleetwood  10.4    8  472.0  205  2.93  5.250  17.98   0   0   \n",
            "15  Lincoln Continental  10.4    8  460.0  215  3.00  5.424  17.82   0   0   \n",
            "16    Chrysler Imperial  14.7    8  440.0  230  3.23  5.345  17.42   0   0   \n",
            "17             Fiat 128  32.4    4   78.7   66  4.08  2.200  19.47   1   1   \n",
            "18          Honda Civic  30.4    4   75.7   52  4.93  1.615  18.52   1   1   \n",
            "19       Toyota Corolla  33.9    4   71.1   65  4.22  1.835  19.90   1   1   \n",
            "20        Toyota Corona  21.5    4  120.1   97  3.70  2.465  20.01   1   0   \n",
            "21     Dodge Challenger  15.5    8  318.0  150  2.76  3.520  16.87   0   0   \n",
            "22          AMC Javelin  15.2    8  304.0  150  3.15  3.435  17.30   0   0   \n",
            "23           Camaro Z28  13.3    8  350.0  245  3.73  3.840  15.41   0   0   \n",
            "24     Pontiac Firebird  19.2    8  400.0  175  3.08  3.845  17.05   0   0   \n",
            "25            Fiat X1-9  27.3    4   79.0   66  4.08  1.935  18.90   1   1   \n",
            "26        Porsche 914-2  26.0    4  120.3   91  4.43  2.140  16.70   0   1   \n",
            "27         Lotus Europa  30.4    4   95.1  113  3.77  1.513  16.90   1   1   \n",
            "28       Ford Pantera L  15.8    8  351.0  264  4.22  3.170  14.50   0   1   \n",
            "29         Ferrari Dino  19.7    6  145.0  175  3.62  2.770  15.50   0   1   \n",
            "30        Maserati Bora  15.0    8  301.0  335  3.54  3.570  14.60   0   1   \n",
            "31           Volvo 142E  21.4    4  121.0  109  4.11  2.780  18.60   1   1   \n",
            "\n",
            "    gear  \n",
            "0      4  \n",
            "1      4  \n",
            "2      4  \n",
            "3      3  \n",
            "4      3  \n",
            "5      3  \n",
            "6      3  \n",
            "7      4  \n",
            "8      4  \n",
            "9      4  \n",
            "10     4  \n",
            "11     3  \n",
            "12     3  \n",
            "13     3  \n",
            "14     3  \n",
            "15     3  \n",
            "16     3  \n",
            "17     4  \n",
            "18     4  \n",
            "19     4  \n",
            "20     3  \n",
            "21     3  \n",
            "22     3  \n",
            "23     3  \n",
            "24     3  \n",
            "25     4  \n",
            "26     5  \n",
            "27     5  \n",
            "28     5  \n",
            "29     5  \n",
            "30     5  \n",
            "31     4  \n"
          ]
        }
      ]
    },
    {
      "cell_type": "markdown",
      "source": [
        "Ex.4\n",
        "The owner of the garage wants to do some analysis on only the cars with 8-cylinder engines. \n",
        "Create a subset data frame of these cars.\n"
      ],
      "metadata": {
        "id": "GrMG-JNb0zSU"
      }
    },
    {
      "cell_type": "code",
      "source": [
        "cylinder8 = cars[cars['cyl'] == 8]\n",
        "print(cylinder8)"
      ],
      "metadata": {
        "colab": {
          "base_uri": "https://localhost:8080/"
        },
        "id": "Mo5oQkXQ06h9",
        "outputId": "38624be5-4c5a-4cf4-eb25-afd591002ac3"
      },
      "execution_count": 17,
      "outputs": [
        {
          "output_type": "stream",
          "name": "stdout",
          "text": [
            "                  model   mpg  cyl   disp   hp  drat     wt   qsec  vs  am  \\\n",
            "4     Hornet Sportabout  18.7    8  360.0  175  3.15  3.440  17.02   0   0   \n",
            "6            Duster 360  14.3    8  360.0  245  3.21  3.570  15.84   0   0   \n",
            "11           Merc 450SE  16.4    8  275.8  180  3.07  4.070  17.40   0   0   \n",
            "12           Merc 450SL  17.3    8  275.8  180  3.07  3.730  17.60   0   0   \n",
            "13          Merc 450SLC  15.2    8  275.8  180  3.07  3.780  18.00   0   0   \n",
            "14   Cadillac Fleetwood  10.4    8  472.0  205  2.93  5.250  17.98   0   0   \n",
            "15  Lincoln Continental  10.4    8  460.0  215  3.00  5.424  17.82   0   0   \n",
            "16    Chrysler Imperial  14.7    8  440.0  230  3.23  5.345  17.42   0   0   \n",
            "21     Dodge Challenger  15.5    8  318.0  150  2.76  3.520  16.87   0   0   \n",
            "22          AMC Javelin  15.2    8  304.0  150  3.15  3.435  17.30   0   0   \n",
            "23           Camaro Z28  13.3    8  350.0  245  3.73  3.840  15.41   0   0   \n",
            "24     Pontiac Firebird  19.2    8  400.0  175  3.08  3.845  17.05   0   0   \n",
            "28       Ford Pantera L  15.8    8  351.0  264  4.22  3.170  14.50   0   1   \n",
            "30        Maserati Bora  15.0    8  301.0  335  3.54  3.570  14.60   0   1   \n",
            "\n",
            "    gear  carb  \n",
            "4      3     2  \n",
            "6      3     4  \n",
            "11     3     3  \n",
            "12     3     3  \n",
            "13     3     3  \n",
            "14     3     4  \n",
            "15     3     4  \n",
            "16     3     4  \n",
            "21     3     2  \n",
            "22     3     2  \n",
            "23     3     4  \n",
            "24     3     2  \n",
            "28     5     4  \n",
            "30     5     8  \n"
          ]
        }
      ]
    },
    {
      "cell_type": "markdown",
      "source": [
        "Ex.5\n",
        "Using the full data (not the subset), you want to explore the relationship between engine size and \n",
        "engine power. Produce a plot with displacement (“disp”) on the x axis and horsepower (“hp”) on the y \n",
        "axis. Use colour to illustrate the quantity of cylinders in the engine."
      ],
      "metadata": {
        "id": "DFPzCzwY49L0"
      }
    },
    {
      "cell_type": "code",
      "source": [
        "import seaborn as sns\n",
        "plt.scatter(cars['disp'], cars['hp'])\n",
        "plt.xlabel('disp')\n",
        "plt.ylabel('hp')\n",
        "plt.colorbar()\n",
        "sns.barplot(x='disp',y='hp', data=cars,\n",
        "            hue='cyl')\n",
        "plt.show()"
      ],
      "metadata": {
        "colab": {
          "base_uri": "https://localhost:8080/",
          "height": 283
        },
        "id": "JW9fri_u4-kh",
        "outputId": "728f3fec-629c-48d5-cf4c-a35f5616db97"
      },
      "execution_count": 29,
      "outputs": [
        {
          "output_type": "display_data",
          "data": {
            "text/plain": [
              "<Figure size 432x288 with 2 Axes>"
            ],
            "image/png": "[encoded data removed]"
          },
          "metadata": {
            "needs_background": "light"
          }
        }
      ]
    }
  ]
}